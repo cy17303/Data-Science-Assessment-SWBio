{
  "cells": [
    {
      "cell_type": "code",
      "source": [
        "#remains blank for package installation (if needed)"
      ],
      "metadata": {
        "id": "dHk1O-ntQ7eT"
      },
      "execution_count": 38,
      "outputs": []
    },
    {
      "cell_type": "markdown",
      "metadata": {
        "id": "34NPxoSeQtWz"
      },
      "source": [
        "# Data Science and Machine Learning Coursework\n",
        "\n",
        "Student Number = 1729296\\\n",
        "Date started = 13/12/2021\\\n",
        "Date finished = "
      ]
    },
    {
      "cell_type": "code",
      "execution_count": 39,
      "metadata": {
        "id": "oy7NqBp8ElME"
      },
      "outputs": [],
      "source": [
        "#import libraries \n",
        "import numpy as np \n",
        "import matplotlib.pyplot as plt\n",
        "import pandas as pd\n",
        "from scipy.stats import skewnorm\n",
        "import seaborn as sns\n",
        "from sklearn.model_selection import train_test_split\n",
        "from sklearn.preprocessing import PolynomialFeatures\n",
        "from sklearn.linear_model import LinearRegression\n",
        "from scipy import stats\n",
        "import tensorflow as tf\n",
        "\n"
      ]
    },
    {
      "cell_type": "markdown",
      "metadata": {
        "id": "iybbIm22Q2ig"
      },
      "source": [
        "#Decoding the reward represented by distributions of Temporal Difference error.\n",
        "\n",
        "Temporal difference error (TDE) is an algorithm commonly used to calculate reward prediction error in reinforcement learning (RL) paradigms.\\\n",
        "Reinforcement learning is a phenomenon observed in behaving animals, and has inspired a range of contemporary machine learning techniques.\\\n",
        "Now, artificial RL (aRL) can be used to model the neural computations performed as an animal undergoes RL.\\\n",
        "Recently, researchers have extended the TDE algorithm to calculate a distirbution of reward estimates. This distirbutional RL (dRL) is also a good model for dopamine activity in the VTA.\\\n",
        "Here, I use a distributional TD algorithm (dTD) in a guaranteed reward environment, to estimate reward recieved from different reward distributions.\\\n",
        "$\\ [1]  δ_{(t,i)} ∶= r_t + γV(S_{t+1}, i)-V(S_t,i)$\\\n",
        "$\\ [2]  V(S_t,i)←V(S_t,i)+ α^- δ_{(t,i)}   (δ_{(t,i)}<0) $\\\n",
        "$OR V(S_t,i)←V(S_t,i)+ α^+ δ_{(t,i)} (δ_{(t,i)}>0)$\\\n",
        "I then input the dTDE calculated from this algorithm to a neural network decoder, to see how accurately it can predict the reward used to calculate the dTDE.\\\n",
        "High prediction accuracy indicates that information is shared between the TDE distribution, and the reward distribution used to calculate it. This suggests that similar activity distirbutions observed in biology may also be encoding reward magnitude in a similar way. \\\n",
        "I will train the algorithm on 4 different reward distributions. I will then test the algorithm on each reward within this distirbution. For more details, see code below. "
      ]
    },
    {
      "cell_type": "code",
      "execution_count": 40,
      "metadata": {
        "id": "juAAOvQ7E30y"
      },
      "outputs": [],
      "source": [
        "#assigning alpha and r_dist values to individual 'cells' making these intrinsic cellular properties. \n",
        "#this allows us to assess the zero-crossing properties for TDE in individual cells\n",
        "alpha_pos = np.random.rand(100) \n",
        "alpha_neg = np.random.rand(100)\n",
        "r_dist_pos = np.random.rand(100)\n",
        "r_dist_neg = np.random.rand(100) \n",
        "r_dist = np.random.rand(100)"
      ]
    },
    {
      "cell_type": "code",
      "execution_count": 41,
      "metadata": {
        "id": "73mg3iH3E0BG"
      },
      "outputs": [],
      "source": [
        "#reward_distributions\n",
        "\n",
        "even_dist = np.array((0.2,0.4,0.6,0.8)) #evenly spaced, average of 0.5\n",
        "\n",
        "\n",
        "#motivation distributions\n",
        "Low_Reward_magnitude_distribution = np.array((0.0, 0.1, 0.2, 1.7 )) #unevenly spaced, shift towards negative reward values, average of 0.5\n",
        "High_Reward_magnitude_distribution = np.array((0.05, 0.35, 0.65, 0.95)) #unevenly spaced, shift toward positive reward values, average of 0.5\n",
        "\n",
        "#Aversion Task \n",
        "aversion_magnitude_distribution = np.array((-0.25, -0.10, 0.1, 0.25)) #evenly spaced, featuring aversive values (on same scale as positive), average of 0"
      ]
    },
    {
      "cell_type": "markdown",
      "metadata": {
        "id": "pKZsWm7FT1qR"
      },
      "source": [
        "##Training the agent\n",
        "\n",
        "Use the dTD algorithm to train an agent in a guarenteed reward environment."
      ]
    },
    {
      "cell_type": "code",
      "execution_count": 42,
      "metadata": {
        "id": "fWOVgVzOxyAp"
      },
      "outputs": [],
      "source": [
        "# an agents that deterministically transitions through a series of states, each \n",
        "# of which associated with a random r, selected from the speciied reward distribution\n",
        "# dtd calculated with standard method (see Dabney, et al., 2020) \n",
        "\n",
        "def guaranteed_learner_standard(num_cells, num_states, iterations, reward_dist, alpha = 0.01, gamma =0.2):\n",
        "\n",
        "\n",
        "  tde = np.zeros((num_states, num_cells)) #empty container to store tde at each state, for each cell\n",
        "  value_distribution = np.zeros((num_states, num_cells)) #empty container to store estimated value at each state, for each cell\n",
        "  value_cell = np.zeros((num_cells, num_states)) #empty container to store estimated value for each cell, at each state\n",
        "  tde_cell = np.zeros((num_cells, num_states)) #empty container to store tde for each cell, at each state\n",
        "\n",
        "  for trial in range(iterations): #iterates through pre-specified number of training trials\n",
        "    for state in range(num_states): #transition through each state\n",
        "      next_state = state+1 #defines next state\n",
        "      if next_state == (num_states):\n",
        "        continue  #skips states that do not have stored values (due to 0 indexing)\n",
        "\n",
        "      r = np.random.choice(reward_dist) #select random reward from reward_dist\n",
        "      tde[state] = (r) + gamma * value_distribution[next_state] - value_distribution[state] #calculate tde\n",
        "\n",
        "      for cell in range(num_cells): \n",
        "        tde_cell[cell, state] = (r) + gamma * value_distribution[next_state, cell] - value_distribution[state, cell] #calculate tde (store differently)\n",
        "\n",
        "        #assign different alpha value for value update rule, depending on if tde is positive or negative. \n",
        "        #Relative weight of alpha_pos / alpha_neg determines the cell's optimism / pessimism.\n",
        "        if tde[state,cell] < 0:\n",
        "          value_distribution[state, cell] += alpha_neg[cell] * tde[state, cell] #value update\n",
        "          value_cell[cell,state] += alpha_neg[cell] * tde[state, cell] #value update (stored differently)\n",
        "        elif tde[state,cell] > 0: \n",
        "          value_distribution[state, cell] += alpha_pos[cell] * tde[state,cell] #value update\n",
        "          value_cell[cell,state] += alpha_pos[cell] * tde[state, cell] #value update (stored differently)\n",
        "\n",
        "\n",
        " \n",
        "  return tde, tde_cell, value_distribution, value_cell #return task variables"
      ]
    },
    {
      "cell_type": "markdown",
      "metadata": {
        "id": "0TkM7fKzT-5k"
      },
      "source": [
        "##Testing the trained agent\n",
        "\n",
        "Use the dTD algorithm to test the agent (single iteration) on fixed reward for each state."
      ]
    },
    {
      "cell_type": "code",
      "execution_count": 43,
      "metadata": {
        "id": "Qo0iNKvyCPqI"
      },
      "outputs": [],
      "source": [
        "#an agent that takes a value distribution, calculated using a learner function\n",
        "#, and transitions deterministically through a series of states, each associated\n",
        "# with a pre-determined r (should be from the reward_dist that the agent was trained on)\n",
        "\n",
        "def guaranteed_test_standard(num_cells, num_states, iterations, r, val_dist, val_cell, alpha = 0.01, gamma =0.2):\n",
        "\n",
        "\n",
        "  tde = np.zeros((num_states, num_cells)) #empty container to store tde at each state, for each cell\n",
        "  value_distribution = val_dist #value distribution taken from previously trained agent\n",
        "  tde_cell = np.zeros((num_cells, num_states)) # #empty container to store tde for each cell, at each state\n",
        "  value_cell = val_cell  #empty container to store estimated value for each cell, at each state\n",
        "\n",
        "  for state in range(num_states): #transition through each states \n",
        "    next_state = state+1 #defines next state\n",
        "    if next_state == (num_states): \n",
        "      continue #skips states that do not have stored values (due to 0 indexing)\n",
        "    tde[state] = (r) + gamma * value_distribution[next_state] - value_distribution[state] #calculate tde\n",
        "    for cell in range(num_cells): \n",
        "      tde_cell[cell, state] = (r) + gamma * value_distribution[next_state, cell] - value_distribution[state, cell] #calculate tde (store differently)\n",
        "      \n",
        "      #assign different alpha value for value update rule, depending on if tde is positive or negative. \n",
        "      #Relative weight of alpha_pos / alpha_neg determines the cell's optimism / pessimism.\n",
        "      if tde[state,cell] < 0:\n",
        "        value_distribution[state, cell] += alpha_neg[cell] * tde[state, cell] #value update\n",
        "        value_cell[cell,state] += alpha_neg[cell] * tde[state, cell] #value update (stored differently)\n",
        "      elif tde[state,cell] > 0: \n",
        "        value_distribution[state, cell] += alpha_pos[cell] * tde[state,cell] #value update\n",
        "        value_cell[cell,state] += alpha_pos[cell] * tde[state, cell] #value update (stored differently)\n",
        "\n",
        "\n",
        "  return tde_cell, value_cell #return task variables"
      ]
    },
    {
      "cell_type": "markdown",
      "metadata": {
        "id": "PZqCY4_tULE5"
      },
      "source": [
        "##Testing the assumptions of dRL\n",
        "\n",
        "Assymetric learning \\\n",
        "Differential zero crossing"
      ]
    },
    {
      "cell_type": "code",
      "execution_count": 44,
      "metadata": {
        "id": "qVkGGiZGHLkW"
      },
      "outputs": [],
      "source": [
        "def make_mean_list(num_cells, array):\n",
        "  mean_list = [] #create empty list\n",
        "\n",
        "  for n in range(num_cells): #iterate through number of cells\n",
        "    mean_list.append(np.mean(array[n])) #return average statistic, for each cell, over each state\n",
        "    \n",
        "  return mean_list #returns list"
      ]
    },
    {
      "cell_type": "markdown",
      "metadata": {
        "id": "XNm1quRCUabX"
      },
      "source": [
        "###Zero Crossing"
      ]
    },
    {
      "cell_type": "code",
      "execution_count": 45,
      "metadata": {
        "id": "ho-bpc8dBafv"
      },
      "outputs": [],
      "source": [
        "#plots KDE and violin plots for training and test (with each r in a predefined distribution)\n",
        "def zero_crossing_plots(num_cells, num_states, iterations, reward_dist, test_dist, learner_function, tester_function, kernal_density_estimation = True, violin_plots = True):\n",
        "  \n",
        "\n",
        "  tde, tde_cell, value_distribution, value_cell = learner_function(num_cells, num_states, iterations, reward_dist) #train agent\n",
        "\n",
        "  mean_tde_cell = make_mean_list(num_cells, tde_cell) #make a list of mean tde (across all states) for each cell. \n",
        "\n",
        "  r_dictionary = {} #create empty r dictionary\n",
        "  \n",
        "  for n, r in enumerate(test_dist): #iterates through reward_distribution for test (returning index and r)\n",
        "    \n",
        "    tde_cell_new, value_cell_new = tester_function(num_cells, num_states,1, r, value_distribution, val_cell = value_cell) #test with r\n",
        "    r_tde_cell = make_mean_list(num_cells, tde_cell_new) #make a list of mean tde(across all states) for each cell with this r\n",
        "    r_dictionary[n] = r_tde_cell #store list for each r in r_index:list dict\n",
        "   \n",
        "  \n",
        "  #for each test reward, create an array from the mean tde for each cell across each state.\n",
        "  mean_tde_cell = np.asarray(mean_tde_cell)  \n",
        "  small_reward = np.asarray(r_dictionary[0])\n",
        "  small_med_reward = np.asarray(r_dictionary[1])\n",
        "  big_med_reward = np.asarray(r_dictionary[2])\n",
        "  big_reward = np.asarray(r_dictionary[3])\n",
        "\n",
        "\n",
        "  if kernal_density_estimation == True: #plot KDE \n",
        "    full_labels =[] #empty list for the label (need to label the tde for each cell with the r used to calculate it)\n",
        "    full_list = np.concatenate([mean_tde_cell, small_reward, small_med_reward, big_med_reward, big_reward]) #create concatenated list of tde for each reward\n",
        "    for n in range(num_cells): #iterate through length of list and append a reward label for each observaion\n",
        "      full_labels.append('mean reward')\n",
        "    for n in range(len(small_reward)):\n",
        "      full_labels.append('small_reward')\n",
        "    for n in range(len(small_med_reward)): \n",
        "      full_labels.append('medium small reward')\n",
        "    for n in range(len(big_med_reward)): \n",
        "      full_labels.append('medium big reward')\n",
        "    for n in range(len(big_reward)): \n",
        "      full_labels.append('big_reward')\n",
        "\n",
        "    mean_cell_tde_zipped = list(zip(full_labels,full_list)) #create zipped list that combines labels with tde values\n",
        "    mean_cell_tde_df = pd.DataFrame(mean_cell_tde_zipped, columns=['labels', 'tde']) #convert to pandas df\n",
        "    sns.displot(data = mean_cell_tde_df, x = 'tde', hue = 'labels', kind = 'kde') #plot, colouring different curves based on r used to calculate tde\n",
        "  \n",
        "  if violin_plots == True: #plot violin plots\n",
        "    plot_data = list([mean_tde_cell, small_reward, small_med_reward, big_med_reward, big_reward]) #list of lists\n",
        "\n",
        "    fig, ax = plt.subplots() #define page and axes\n",
        "\n",
        "    xticklabels = ['mean reward', 'small reward', 'medium small reward', 'medium large reward', 'large reward'] #list of axis labels\n",
        "    ax.set_xticks([1, 2, 3, 4, 5]) #axis ticks for labels\n",
        "    ax.set_xticklabels(xticklabels, rotation=90) #rotate labels for readability\n",
        "\n",
        "    ax.violinplot(plot_data, showmedians=True) #plot violin with the arguments defined above\n",
        "    plt.axhline(y=0)\n",
        "    plt.ylabel('TDE')\n",
        "\n",
        "\n",
        "  #perform krusal wallis (if not normal) and one way ANOVA (if normal) to test if populations are significantly different.\n",
        "  print(stats.kruskal(mean_tde_cell, small_reward, small_med_reward, big_med_reward, big_reward))\n",
        "  print(stats.f_oneway(mean_tde_cell, small_reward, small_med_reward, big_med_reward, big_reward))\n",
        "\n"
      ]
    },
    {
      "cell_type": "markdown",
      "metadata": {
        "id": "Homair4kUceI"
      },
      "source": [
        "###Assymetric Learning"
      ]
    },
    {
      "cell_type": "code",
      "execution_count": 46,
      "metadata": {
        "id": "WCc1m8DbxtfT"
      },
      "outputs": [],
      "source": [
        "#plots a scatter plot, (reminscient of those seen in Dabney, et al., 2020) which compares predicted value to the relative weight of alpha+/alpha-.\n",
        "\n",
        "def Distribution_coding_plot(num_cells, num_states, iterations, reward_dist, learner_function, new = False, target = False, target_dest = None, extra_iterations = None): \n",
        "  alpha_weights =[] #empty list of alpha weights (within which the relative alpha+ / alpha- ratio will be stored)\n",
        "\n",
        "  tde, tde_cell, value_distribution, value_cell = learner_function(num_cells, num_states, iterations, reward_dist) #train agent\n",
        "  value_cell_mean = make_mean_list(num_cells, value_cell) #calculates the mean value for each cell, across each state\n",
        "\n",
        "\n",
        "  for cell in range(num_cells): #iterate through cells\n",
        "    alpha_weights.append(alpha_pos[cell]/(alpha_pos[cell] + alpha_neg[cell])) #calculates relative weight of alpha+ / alpha- \n",
        "\n",
        "  \n",
        "  \n",
        "  model = np.poly1d(np.polyfit(alpha_weights, value_cell_mean, 3))#runnign and fitting cubic regression\n",
        "  polyline = np.linspace(0, 1, 50) #values to be predicted by cubic regression\n",
        "\n",
        "  alpha_value_dict = {'asymmetric scaling factor':alpha_weights,'Value':value_cell_mean} #create dictionary of alpha_weight, value pairs\n",
        "  alpha_value_df = pd.DataFrame(alpha_value_dict) #turn dictionary into df\n",
        "  print(alpha_value_df)\n",
        "\n",
        "\n",
        "  fig, ax = plt.subplots() #define axes\n",
        "  ax.plot(polyline, model(polyline), color = 'black', linewidth=1.5,) #plot lobf\n",
        "  ax.scatter('asymmetric scaling factor', 'Value', #plot scatter\n",
        "             c = 'asymmetric scaling factor', #colour points according to relative alpha+/- weight\n",
        "             data = alpha_value_df) #take data from df\n",
        "  ax.set_xlabel('Assymetric Scaling Factor') #set x label\n",
        "  ax.set_ylabel('Value') #set y label\n",
        " \n",
        "  plt.show() #show plot\n",
        "\n",
        "  #isolate results from non-linear regression\n",
        "  results = {}\n",
        "  coeffs = np.polyfit(alpha_weights, value_cell_mean, 3)\n",
        "  p = np.poly1d(coeffs)\n",
        "    \n",
        "  yhat = p(alpha_weights)\n",
        "  ybar = np.sum(value_cell_mean)/len(value_cell_mean)\n",
        "  ssreg = np.sum((yhat-ybar)**2)\n",
        "  sstot = np.sum((value_cell_mean - ybar)**2)\n",
        "  results['r_squared'] = ssreg / sstot\n",
        "  print(results['r_squared'])\n",
        "\n"
      ]
    },
    {
      "cell_type": "code",
      "execution_count": 47,
      "metadata": {
        "colab": {
          "base_uri": "https://localhost:8080/",
          "height": 751
        },
        "id": "_LzdV0BVXKw8",
        "outputId": "6afd574f-33c5-4a63-9d2f-ff501af66a62"
      },
      "outputs": [
        {
          "output_type": "stream",
          "name": "stdout",
          "text": [
            "KruskalResult(statistic=367.3401791616768, pvalue=3.158567513293416e-78)\n",
            "F_onewayResult(statistic=333.51494560298596, pvalue=5.9197466885577836e-139)\n"
          ]
        },
        {
          "output_type": "display_data",
          "data": {
            "image/png": "[encoded data removed]",
            "text/plain": [
              "<Figure size 504.625x360 with 1 Axes>"
            ]
          },
          "metadata": {
            "needs_background": "light"
          }
        },
        {
          "output_type": "display_data",
          "data": {
            "image/png": "[encoded data removed]",
            "text/plain": [
              "<Figure size 432x288 with 1 Axes>"
            ]
          },
          "metadata": {
            "needs_background": "light"
          }
        }
      ],
      "source": [
        "#train and test dTD algorithm on even reward distribution\n",
        "\n",
        "zero_crossing_plots(100, 40, 1000, even_dist, even_dist, guaranteed_learner_standard, guaranteed_test_standard)"
      ]
    },
    {
      "cell_type": "code",
      "execution_count": 48,
      "metadata": {
        "colab": {
          "base_uri": "https://localhost:8080/",
          "height": 539
        },
        "id": "HHvtL9dxcnSb",
        "outputId": "2aedf689-482b-4a61-ff26-2073ecc4a8a9"
      },
      "outputs": [
        {
          "output_type": "stream",
          "name": "stdout",
          "text": [
            "    asymmetric scaling factor     Value\n",
            "0                    0.391953  0.540410\n",
            "1                    0.552251  0.607710\n",
            "2                    0.801939  0.756408\n",
            "3                    0.712777  0.699664\n",
            "4                    0.787899  0.747780\n",
            "..                        ...       ...\n",
            "95                   0.232684  0.434622\n",
            "96                   0.702578  0.696761\n",
            "97                   0.607440  0.643339\n",
            "98                   0.470228  0.544919\n",
            "99                   0.271179  0.441226\n",
            "\n",
            "[100 rows x 2 columns]\n"
          ]
        },
        {
          "output_type": "display_data",
          "data": {
            "image/png": "[encoded data removed]",
            "text/plain": [
              "<Figure size 432x288 with 1 Axes>"
            ]
          },
          "metadata": {
            "needs_background": "light"
          }
        },
        {
          "output_type": "stream",
          "name": "stdout",
          "text": [
            "0.9905787711998564\n"
          ]
        }
      ],
      "source": [
        "Distribution_coding_plot(100, 40, 1000, even_dist, guaranteed_learner_standard)"
      ]
    },
    {
      "cell_type": "markdown",
      "metadata": {
        "id": "KKoc16oAUud9"
      },
      "source": [
        "#Decoding "
      ]
    },
    {
      "cell_type": "code",
      "execution_count": 49,
      "metadata": {
        "id": "EKGx8CB5mPsw"
      },
      "outputs": [],
      "source": [
        "# 'repeat' the testing experiments multiple times, to generate a breadth of observations for each reward magnitude which can be thus used in the decoder.\n",
        "\n",
        "def train_and_test(num_cells, num_states, iterations, reward_dist, test_dist, test_repeats, learner_function, tester_function, test_number = 2): \n",
        "  \n",
        "  tde, tde_cell, memory, memory_cell = learner_function(num_cells, num_states, iterations, reward_dist) # train agent\n",
        "\n",
        "  \n",
        "  val_input = np.copy(memory) #crate a copy of stored value estimates (memory / memory cell; to use during test) to avoid pointing and thus unwanted learning during testing. \n",
        "  val_cell_input = np.copy(memory_cell)\n",
        "\n",
        "\n",
        "  rows = (len(reward_dist)) * test_repeats #calculate rows of final df (including all test repeats for each r in reward dist)\n",
        "\n",
        "  r_array = np.zeros((rows, num_cells)) #create empty container to store tde for each cell at each reward, and each repeat.\n",
        "  val_array = np.zeros((rows, num_cells)) #create empty contasiner to store value for each cell at each reward, and each repeat.\n",
        "  \n",
        "\n",
        "  index = 0  #set index to 0\n",
        "  for reward in test_dist: #iterate through each reward in reward distribution\n",
        "    for test in range(test_repeats): #iterate through each test in predefined number of repeats\n",
        "      r = reward #set r to reward in reward distribution\n",
        "      tde_cell_test, output_v = tester_function(num_cells, num_states,1, r, val_input, val_cell_input) #calculate tde and value from test function, using r\n",
        "      r_array[index] = np.asarray(make_mean_list(num_cells, tde_cell_test)) #store tde in array\n",
        "      val_array[index] = np.asarray(make_mean_list(num_cells, output_v)) #store val in array\n",
        "\n",
        "      val_input = np.copy(memory) #reset stored value estimates (memory / memory cell) to 'memory' to avoid pointing and thus unwanted learning during testing. \n",
        "      val_cell_input = np.copy(memory_cell)\n",
        "\n",
        "      index += 1 #increase index by 1\n",
        "\n",
        "  r_df = pd.DataFrame(r_array) #convert tde array to df\n",
        "  val_df = pd.DataFrame(val_array) #convert value array to df\n",
        "\n",
        "  label_list = [] #create list for reward labels\n",
        "  for label in range(len(test_dist)): #iterate rewards in reward distirbution\n",
        "    for test in range(test_repeats): #iterate through repeats in predefined number of repeats\n",
        "      label_list.append(label) #append label (e.g 0/1/2/3) for each reward to label list.\n",
        "\n",
        "  r_df['target'] = label_list #add label list to tde df\n",
        "  val_df['target'] = label_list #add label list to val df\n",
        "\n",
        "  \n",
        "  return r_df, val_df #return variables"
      ]
    },
    {
      "cell_type": "code",
      "execution_count": 50,
      "metadata": {
        "id": "4szpqxEYcvfg"
      },
      "outputs": [],
      "source": [
        "model = tf.keras.Sequential([ #define forward neural network\n",
        "tf.keras.Input((100,)), #define input layer with 100 inputs (for each cell)\n",
        "tf.keras.layers.Dense(50, activation=tf.nn.relu, #50 cell wide dense layer, with Relu activation function\n",
        "                        bias_regularizer=tf.keras.regularizers.L2(0.01)), #apply L2 regularizer to avoid over fitting and autocorrelation\n",
        "tf.keras.layers.Dropout(0.2, input_shape = (50, )), #add dropout layer to aovid over reliance on any single cell\n",
        "tf.keras.layers.Dense(50, activation=tf.nn.relu,\n",
        "                        bias_regularizer=tf.keras.regularizers.L2(0.01)),\n",
        "tf.keras.layers.Dense(4, activation=tf.nn.softmax) #define softmax output function\n",
        "  ])\n",
        "\n",
        "model.compile(optimizer='adam', loss='sparse_categorical_crossentropy', metrics=['accuracy']) #compile model\n",
        "model.save_weights('model.h5') #store weights for naive model"
      ]
    },
    {
      "cell_type": "code",
      "execution_count": null,
      "metadata": {
        "id": "JwfjgE3QZ5xG"
      },
      "outputs": [],
      "source": [
        "# create data for decoder and parse through decoder, with predefined naive weights.\n",
        "\n",
        "r_squ_even = np.zeros((5,10)) #create empty array for model score.\n",
        "for repeat in range(10):  #iterate trough 'test' repeats for decoder\n",
        "  r_df_even, val_df_even, =train_and_test(100, 40, 1000, even_dist, even_dist, 1000, guaranteed_learner_standard, guaranteed_test_standard) #train and test model (create decoder data)\n",
        "\n",
        "  val_df_even['target'] = val_df_even.target.astype('category') #convert target data to categorical (to be interpreted as such by decoder)\n",
        "\n",
        "  cell_index = np.linspace(0,99,100) #create a list from 0-99 to extract x variable\n",
        "\n",
        "  X = np.copy(val_df_even[cell_index]) #create x variable (copy of val df from test/train function to avoid pointing)\n",
        "\n",
        "  y = np.copy(np.asarray(val_df_even['target'])) #create y variable (copy of target, as array, to avoid pointing)\n",
        "\n",
        "  X_train, X_test, y_train, y_test = train_test_split(X, y) #split x and y variables into test and train batches.\n",
        "\n",
        "  train = tf.data.Dataset.from_tensor_slices((np.copy(X_train), np.copy(y_train))) #define train data as tensor\n",
        "  train = train.repeat().shuffle(1000).batch(32) #shuffle train data\n",
        "  test = tf.data.Dataset.from_tensor_slices((X_test, y_test)).batch(1) #define test data as tensor\n",
        "\n",
        "  #define model\n",
        "  model = tf.keras.Sequential([ \n",
        "  tf.keras.Input((100,)),\n",
        "  tf.keras.layers.Dense(50, activation=tf.nn.relu, \n",
        "                        bias_regularizer=tf.keras.regularizers.L2(0.01)),\n",
        "  tf.keras.layers.Dropout(0.2, input_shape = (50, )),\n",
        "  tf.keras.layers.Dense(50, activation=tf.nn.relu,\n",
        "                        bias_regularizer=tf.keras.regularizers.L2(0.01)),\n",
        "  tf.keras.layers.Dense(4, activation=tf.nn.softmax)\n",
        "  ])\n",
        "\n",
        "  model.compile(optimizer='adam', loss='sparse_categorical_crossentropy', metrics=['accuracy']) #compile model\n",
        "\n",
        "  model.load_weights('model.h5') #apply sotred model weights\n",
        "\n",
        "  model.fit(\n",
        "    train, #fit model to train data\n",
        "    validation_data=test, #evaluate using test data\n",
        "    steps_per_epoch=180, #apply 180 steps per epoch\n",
        "    epochs=5,) #run for 5 epochs\n",
        "  \n",
        "  for num, n in enumerate(model.history.history['accuracy']): #iterate through model accuracy\n",
        "    r_squ_even[num, repeat] = n #store model accuracy in array, for each epoch (num) for this repeat.\n",
        "    \n",
        "\n",
        "r_squ_even = pd.DataFrame(r_squ_even) #convert to df\n",
        "print(r_squ_even) #print df\n",
        "  "
      ]
    },
    {
      "cell_type": "code",
      "execution_count": null,
      "metadata": {
        "id": "JIdhbS3eafuD"
      },
      "outputs": [],
      "source": [
        "r_squ_even['r squared'] = r_squ_even.mean(axis = 1) #create mean score column"
      ]
    },
    {
      "cell_type": "code",
      "execution_count": null,
      "metadata": {
        "id": "FSbZFlyHbeEW"
      },
      "outputs": [],
      "source": [
        "\n",
        "r_squ_even['dist'] = 'even' #apply label 'even' for this df\n",
        "\n",
        "r_squ_even "
      ]
    },
    {
      "cell_type": "code",
      "execution_count": null,
      "metadata": {
        "id": "HuweI2wSbKwG"
      },
      "outputs": [],
      "source": [
        "#repeat previous step for low reward distribution\n",
        "\n",
        "r_squ_low = np.zeros((5,10))\n",
        "for repeat in range(10): \n",
        "  r_df_low, val_df_low=train_and_test(100, 40, 1000, Low_Reward_magnitude_distribution, Low_Reward_magnitude_distribution, 1000, guaranteed_learner_standard, guaranteed_test_standard)\n",
        "\n",
        "  val_df_low['target'] = val_df_low.target.astype('category')\n",
        "\n",
        "  cell_index = np.linspace(0,99,100)\n",
        "\n",
        "  X = np.copy(val_df_low[cell_index])\n",
        "\n",
        "  y = np.copy(np.asarray(val_df_low['target']))\n",
        "\n",
        "  X_train, X_test, y_train, y_test = train_test_split(X, y)\n",
        "\n",
        "  train = tf.data.Dataset.from_tensor_slices((np.copy(X_train), np.copy(y_train)))\n",
        "  train = train.repeat().shuffle(1000).batch(32)\n",
        "  test = tf.data.Dataset.from_tensor_slices((X_test, y_test)).batch(1) \n",
        "\n",
        "  model = tf.keras.Sequential([\n",
        "  tf.keras.Input((100,)),\n",
        "  tf.keras.layers.Dense(50, activation=tf.nn.relu, \n",
        "                        bias_regularizer=tf.keras.regularizers.L2(0.01)),\n",
        "  tf.keras.layers.Dropout(0.2, input_shape = (50, )),\n",
        "  tf.keras.layers.Dense(50, activation=tf.nn.relu,\n",
        "                        bias_regularizer=tf.keras.regularizers.L2(0.01)),\n",
        "  tf.keras.layers.Dense(4, activation=tf.nn.softmax)\n",
        "  ])\n",
        "\n",
        "  model.compile(optimizer='adam', loss='sparse_categorical_crossentropy', metrics=['accuracy'])\n",
        "\n",
        "  model.load_weights('model.h5')\n",
        "\n",
        "  model.fit(\n",
        "    train,\n",
        "    validation_data=test,\n",
        "    steps_per_epoch=150,\n",
        "    epochs=5,)\n",
        "  \n",
        "  for num, n in enumerate(model.history.history['accuracy']):\n",
        "    r_squ_low[num, repeat] = n\n",
        "    \n",
        "\n",
        "r_squ_low = pd.DataFrame(r_squ_low)\n",
        "print(r_squ_low)\n",
        "  "
      ]
    },
    {
      "cell_type": "code",
      "execution_count": null,
      "metadata": {
        "id": "akUVoT3dcc_E"
      },
      "outputs": [],
      "source": [
        "r_squ_low['r squared'] = r_squ_low.mean(axis = 1)"
      ]
    },
    {
      "cell_type": "code",
      "execution_count": null,
      "metadata": {
        "id": "s4Qfdh4Ocpu2"
      },
      "outputs": [],
      "source": [
        "r_squ_low['dist'] = 'low'\n",
        "\n",
        "r_squ_low"
      ]
    },
    {
      "cell_type": "code",
      "execution_count": null,
      "metadata": {
        "id": "_bBAwbCtdMM0"
      },
      "outputs": [],
      "source": [
        "#repeat previous step for high reward distribution\n",
        "\n",
        "r_squ_high = np.zeros((5,10))\n",
        "for repeat in range(10): \n",
        "  r_df_high, val_df_high=train_and_test(100, 40, 1000, High_Reward_magnitude_distribution, High_Reward_magnitude_distribution, 1000, guaranteed_learner_standard, guaranteed_test_standard)\n",
        "\n",
        "  val_df_high['target'] = val_df_high.target.astype('category')\n",
        "\n",
        "  cell_index = np.linspace(0,99,100)\n",
        "\n",
        "  X = np.copy(val_df_high[cell_index])\n",
        "\n",
        "  y = np.copy(np.asarray(val_df_high['target']))\n",
        "\n",
        "  X_train, X_test, y_train, y_test = train_test_split(X, y)\n",
        "\n",
        "  train = tf.data.Dataset.from_tensor_slices((np.copy(X_train), np.copy(y_train)))\n",
        "  train = train.repeat().shuffle(1000).batch(32)\n",
        "  test = tf.data.Dataset.from_tensor_slices((X_test, y_test)).batch(1) \n",
        "\n",
        "  model = tf.keras.Sequential([\n",
        "  tf.keras.Input((100,)),\n",
        "  tf.keras.layers.Dense(50, activation=tf.nn.relu, \n",
        "                        bias_regularizer=tf.keras.regularizers.L2(0.01)),\n",
        "  tf.keras.layers.Dropout(0.2, input_shape = (50, )),\n",
        "  tf.keras.layers.Dense(50, activation=tf.nn.relu,\n",
        "                        bias_regularizer=tf.keras.regularizers.L2(0.01)),\n",
        "  tf.keras.layers.Dense(4, activation=tf.nn.softmax)\n",
        "  ])\n",
        "\n",
        "  model.compile(optimizer='adam', loss='sparse_categorical_crossentropy', metrics=['accuracy'])\n",
        "\n",
        "  model.load_weights('model.h5')\n",
        "\n",
        "  model.fit(\n",
        "    train,\n",
        "    validation_data=test,\n",
        "    steps_per_epoch=150,\n",
        "    epochs=5,)\n",
        "  \n",
        "  for num, n in enumerate(model.history.history['accuracy']):\n",
        "    r_squ_high[num, repeat] = n\n",
        "    \n",
        "\n",
        "r_squ_high = pd.DataFrame(r_squ_high)\n",
        "print(r_squ_high)"
      ]
    },
    {
      "cell_type": "code",
      "execution_count": null,
      "metadata": {
        "id": "zCt0yd8jdmpG"
      },
      "outputs": [],
      "source": [
        "r_squ_high['r squared'] = r_squ_high.mean(axis = 1)"
      ]
    },
    {
      "cell_type": "code",
      "execution_count": null,
      "metadata": {
        "id": "mj9yt7jJdqXh"
      },
      "outputs": [],
      "source": [
        "r_squ_high['dist'] = 'high'\n",
        "\n",
        "r_squ_high"
      ]
    },
    {
      "cell_type": "code",
      "execution_count": null,
      "metadata": {
        "id": "jzzKu1OAeR5x"
      },
      "outputs": [],
      "source": [
        "#repeat previous step for aversive distribution\n",
        "\n",
        "r_squ_aversive = np.zeros((5,10))\n",
        "for repeat in range(10): \n",
        "  r_df_aversive, val_df_aversive=train_and_test(100, 40, 1000, aversion_magnitude_distribution, aversion_magnitude_distribution, 1000, guaranteed_learner_standard, guaranteed_test_standard)\n",
        "\n",
        "  val_df_aversive['target'] = val_df_aversive.target.astype('category')\n",
        "\n",
        "  cell_index = np.linspace(0,99,100)\n",
        "\n",
        "  X = np.copy(val_df_aversive[cell_index])\n",
        "\n",
        "  y = np.copy(np.asarray(val_df_aversive['target']))\n",
        "\n",
        "  X_train, X_test, y_train, y_test = train_test_split(X, y)\n",
        "\n",
        "  train = tf.data.Dataset.from_tensor_slices((np.copy(X_train), np.copy(y_train)))\n",
        "  train = train.repeat().shuffle(1000).batch(32)\n",
        "  test = tf.data.Dataset.from_tensor_slices((X_test, y_test)).batch(1) \n",
        "\n",
        "  model = tf.keras.Sequential([\n",
        "  tf.keras.Input((100,)),\n",
        "  tf.keras.layers.Dense(50, activation=tf.nn.relu, \n",
        "                        bias_regularizer=tf.keras.regularizers.L2(0.01)),\n",
        "  tf.keras.layers.Dropout(0.2, input_shape = (50, )),\n",
        "  tf.keras.layers.Dense(50, activation=tf.nn.relu,\n",
        "                        bias_regularizer=tf.keras.regularizers.L2(0.01)),\n",
        "  tf.keras.layers.Dense(4, activation=tf.nn.softmax)\n",
        "  ])\n",
        "\n",
        "  model.compile(optimizer='adam', loss='sparse_categorical_crossentropy', metrics=['accuracy'])\n",
        "\n",
        "  model.load_weights('model.h5')\n",
        "\n",
        "  model.fit(\n",
        "    train,\n",
        "    validation_data=test,\n",
        "    steps_per_epoch=150,\n",
        "    epochs=5,)\n",
        "  \n",
        "  for num, n in enumerate(model.history.history['accuracy']):\n",
        "    r_squ_aversive[num, repeat] = n\n",
        "    \n",
        "\n",
        "r_squ_aversive = pd.DataFrame(r_squ_aversive)\n",
        "print(r_squ_aversive)"
      ]
    },
    {
      "cell_type": "code",
      "execution_count": null,
      "metadata": {
        "id": "Ynrb9_NCe3v9"
      },
      "outputs": [],
      "source": [
        "r_squ_aversive['r squared'] = r_squ_aversive.mean(axis = 1)"
      ]
    },
    {
      "cell_type": "code",
      "execution_count": null,
      "metadata": {
        "id": "rSRuMpfifX0_"
      },
      "outputs": [],
      "source": [
        "r_squ_aversive['dist'] = 'aversive'\n",
        "\n",
        "r_squ_aversive"
      ]
    },
    {
      "cell_type": "code",
      "execution_count": null,
      "metadata": {
        "id": "ttQGpMO0fc-K"
      },
      "outputs": [],
      "source": [
        "frames = [r_squ_even, r_squ_low, r_squ_high, r_squ_aversive] #create list of each df\n",
        "r_squ = pd.concat(frames) #create concatenated df with all dfs included.\n",
        "r_squ.reset_index(drop=True, inplace=True) #reset index so it goes in ascending order"
      ]
    },
    {
      "cell_type": "code",
      "execution_count": null,
      "metadata": {
        "id": "So646i_OfqAH"
      },
      "outputs": [],
      "source": [
        "epochs = [1,2,3,4,5, 1, 2,3,4,5,1,2,3,4,5,1,2,3,4,5] #create list of epoch labels\n",
        "r_squ['epochs'] = epochs #add epoch labels"
      ]
    },
    {
      "cell_type": "code",
      "execution_count": null,
      "metadata": {
        "id": "wbgLXjcMft2E"
      },
      "outputs": [],
      "source": [
        "#create learning curves for each distribution\n",
        "sns.lineplot(data=r_squ, x=\"epochs\", y=\"r squared\", hue = 'dist')"
      ]
    },
    {
      "cell_type": "code",
      "execution_count": null,
      "metadata": {
        "id": "vTO74g8Yc2lm"
      },
      "outputs": [],
      "source": [
        ""
      ]
    }
  ],
  "metadata": {
    "colab": {
      "collapsed_sections": [],
      "name": "Data science assessment.ipynb",
      "toc_visible": true,
      "provenance": []
    },
    "kernelspec": {
      "display_name": "Python 3",
      "name": "python3"
    },
    "language_info": {
      "name": "python"
    }
  },
  "nbformat": 4,
  "nbformat_minor": 0
}